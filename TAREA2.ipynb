{
  "nbformat": 4,
  "nbformat_minor": 0,
  "metadata": {
    "colab": {
      "provenance": [],
      "authorship_tag": "ABX9TyNU9qOtIM65HCyK+J3mh7lQ",
      "include_colab_link": true
    },
    "kernelspec": {
      "name": "python3",
      "display_name": "Python 3"
    },
    "language_info": {
      "name": "python"
    }
  },
  "cells": [
    {
      "cell_type": "markdown",
      "metadata": {
        "id": "view-in-github",
        "colab_type": "text"
      },
      "source": [
        "<a href=\"https://colab.research.google.com/github/WilsonG08/TAREA2/blob/main/TAREA2.ipynb\" target=\"_parent\"><img src=\"https://colab.research.google.com/assets/colab-badge.svg\" alt=\"Open In Colab\"/></a>"
      ]
    },
    {
      "cell_type": "code",
      "execution_count": null,
      "metadata": {
        "id": "VK4qxD1JUjDi"
      },
      "outputs": [],
      "source": [
        "# Importacion de librerias\n",
        "\n",
        "from sklearn.tree import DecisionTreeClassifier\n",
        "from sklearn.model_selection import train_test_split\n",
        "import pandas as pd\n",
        "from sklearn.metrics import accuracy_score, confusion_matrix\n",
        "from sklearn.datasets import load_iris\n",
        "\n",
        "import seaborn as sns\n",
        "import matplotlib.pyplot as plt"
      ]
    },
    {
      "cell_type": "code",
      "source": [
        "# Leer el archivo \n",
        "datos = pd.read_excel(\"medicinas.xlsx\")\n",
        "\n",
        "# Separar las caracteristicas (X) y el objetivo (Y)\n",
        "# Datos de entrada (Caracteristicas)\n",
        "X = datos.iloc[:, 1:-1] # Todas las columnas excepto la ultima\n",
        "# DAtos de salida\n",
        "y = datos.iloc[:, -1] # Ultima columna\n",
        "\n",
        "\n",
        "# Dividir los datos \n",
        "X_train, X_test, y_train, y_test = train_test_split(X, y, test_size=0.25, random_state=25)\n",
        "\n",
        "\n",
        "# Creacion del modelo de arbol de decision\n",
        "modeloArbol = DecisionTreeClassifier()\n",
        "\n",
        "# Entrenar el modelo con los datos de entrenamiento\n",
        "modeloArbol.fit(X_train, y_train)\n",
        "\n",
        "\n",
        "#Probar el modelo con los datos de prueba\n",
        "y_obt = modeloArbol.predict(X_test)\n",
        "\n",
        "\n",
        "# Calcular la exactitud del modelo\n",
        "exactitudModelo = accuracy_score(y_test, y_obt)\n",
        "print(\"La exactitud del modelo es : \", exactitudModelo)\n",
        "\n",
        "\n",
        "# Matriz de confusion \n",
        "confusion = confusion_matrix(y_test, y_obt)\n",
        "\n",
        "\n",
        "# Prediccion 1\n",
        "# Hombre, 45 años, con presión arterial alta, colesterol normal y concentración de sodio y potasio de 12.\n",
        "mediCaso1 = [[45, 0, 2, 0, 12]]\n",
        "tipoMedicina1 = modeloArbol.predict(mediCaso1)\n",
        "print(\"Caso 1 -> Medicamento tipo: \", tipoMedicina1)\n",
        "\n",
        "# Prediccion 2\n",
        "# Mujer, 30 años, con presión arterial normal, colesterol normal y concentración de sodio y potasio de 30.\n",
        "mediCaso2 = [[30, 1, 1, 0, 30]]\n",
        "tipoMedicina2 = modeloArbol.predict(mediCaso2)\n",
        "print(\"Caso 2 -> Medicamento tipo: \", tipoMedicina2 ,)\n",
        "\n",
        "\n",
        "# Prediccion 3\n",
        "# Mujer, 65 años, con presión arterial bajo, colesterol alto y concentración de sodio y potasio de 7.\n",
        "mediCaso3 = [[65, 1, 0, 1, 7]]\n",
        "tipoMedicina3 = modeloArbol.predict(mediCaso3)\n",
        "print(\"Caso 3 -> Medicamento tipo: \", tipoMedicina3)\n",
        "\n",
        "\n",
        "# Mapa de calor para la matriz de confusio\n",
        "sns.heatmap(confusion, annot=True, fmt='d', cmap='YlOrRd')\n",
        "plt.title('Matriz de confusión')\n",
        "plt.xlabel('Predicciones')\n",
        "plt.ylabel('Valores reales')\n",
        "plt.show()\n",
        "\n",
        "\n",
        "# Obteber la importancia de las características\n",
        "Impor_caract = modeloArbol.feature_importances_\n",
        "\n",
        "# Obtener nombre caracteristica\n",
        "nombreCaract = datos.columns.tolist()\n",
        "\n",
        "# Imprimir la importancia caracteristicas\n",
        "print(\"Importancia caracteristicas\")\n",
        "for nombre_carc, impt in zip (Impor_caract, nombreCaract):\n",
        "  print(f\"{nombre_carc}:{impt}\")\n",
        "\n"
      ],
      "metadata": {
        "colab": {
          "base_uri": "https://localhost:8080/",
          "height": 770
        },
        "id": "h-9jvrnkVSoE",
        "outputId": "c6ec135e-3913-4ff6-beb8-1c5f591052ce"
      },
      "execution_count": null,
      "outputs": [
        {
          "output_type": "stream",
          "name": "stdout",
          "text": [
            "La exactitud del modelo es :  0.98\n",
            "Caso 1 -> Medicamento tipo:  [0]\n",
            "Caso 2 -> Medicamento tipo:  [4]\n",
            "Caso 3 -> Medicamento tipo:  [2]\n"
          ]
        },
        {
          "output_type": "stream",
          "name": "stderr",
          "text": [
            "/usr/local/lib/python3.10/dist-packages/sklearn/base.py:439: UserWarning: X does not have valid feature names, but DecisionTreeClassifier was fitted with feature names\n",
            "  warnings.warn(\n",
            "/usr/local/lib/python3.10/dist-packages/sklearn/base.py:439: UserWarning: X does not have valid feature names, but DecisionTreeClassifier was fitted with feature names\n",
            "  warnings.warn(\n",
            "/usr/local/lib/python3.10/dist-packages/sklearn/base.py:439: UserWarning: X does not have valid feature names, but DecisionTreeClassifier was fitted with feature names\n",
            "  warnings.warn(\n"
          ]
        },
        {
          "output_type": "display_data",
          "data": {
            "text/plain": [
              "<Figure size 640x480 with 2 Axes>"
            ],
            "image/png": "[encoded data removed]"
          },
          "metadata": {}
        },
        {
          "output_type": "stream",
          "name": "stdout",
          "text": [
            "Importancia caracteristicas\n",
            "0.13944480309877338:Unnamed: 0\n",
            "0.0:Age\n",
            "0.266593480392004:Sex\n",
            "0.10946753866449604:BP\n",
            "0.4844941778447267:Cholesterol\n"
          ]
        }
      ]
    },
    {
      "cell_type": "code",
      "source": [],
      "metadata": {
        "id": "bb-AAJwxWC4-"
      },
      "execution_count": null,
      "outputs": []
    }
  ]
}